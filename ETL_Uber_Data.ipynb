{
 "cells": [
  {
   "cell_type": "code",
   "execution_count": null,
   "id": "f77b7920",
   "metadata": {},
   "outputs": [],
   "source": [
    "# Extração dos dados\n",
    "\n",
    "import pandas as pd\n",
    "\n",
    "df = pd.read_csv('uber_data.csv')"
   ]
  },
  {
   "cell_type": "code",
   "execution_count": null,
   "id": "79828079",
   "metadata": {},
   "outputs": [],
   "source": [
    "# Convertendo as datas\n",
    "\n",
    "df['tpep_pickup_datetime'] = pd.to_datetime(df['tpep_pickup_datetime'])\n",
    "df['tpep_dropoff_datetime'] = pd.to_datetime(df['tpep_dropoff_datetime'])\n"
   ]
  },
  {
   "cell_type": "code",
   "execution_count": null,
   "id": "3fefdd84",
   "metadata": {},
   "outputs": [],
   "source": [
    "# Tirando valores duplicados\n",
    "\n",
    "df = df.drop_duplicates().reset_index(drop=True)"
   ]
  },
  {
   "cell_type": "code",
   "execution_count": null,
   "id": "a7d6f215",
   "metadata": {},
   "outputs": [],
   "source": [
    "# Criando a dim_tempo\n",
    "\n",
    "dim_tempo = df[['tpep_pickup_datetime','tpep_dropoff_datetime']].reset_index(drop=True)\n",
    "\n",
    "dim_tempo['pick_day'] = dim_tempo['tpep_pickup_datetime'].dt.day\n",
    "dim_tempo['pick_month'] = dim_tempo['tpep_pickup_datetime'].dt.month\n",
    "dim_tempo['pick_year'] = dim_tempo['tpep_pickup_datetime'].dt.year\n",
    "dim_tempo['pick_weekday'] = dim_tempo['tpep_pickup_datetime'].dt.weekday\n",
    "dim_tempo['pick_hour'] = dim_tempo['tpep_pickup_datetime'].dt.hour\n",
    "\n",
    "dim_tempo['drop_day'] = dim_tempo['tpep_dropoff_datetime'].dt.day\n",
    "dim_tempo['drop_month'] = dim_tempo['tpep_dropoff_datetime'].dt.month\n",
    "dim_tempo['drop_year'] = dim_tempo['tpep_dropoff_datetime'].dt.year\n",
    "dim_tempo['drop_weekday'] = dim_tempo['tpep_dropoff_datetime'].dt.weekday\n",
    "dim_tempo['drop_hour'] = dim_tempo['tpep_dropoff_datetime'].dt.hour\n",
    "\n",
    "dim_tempo['datetime_id'] = dim_tempo.index\n",
    "\n",
    "dim_tempo = dim_tempo[['datetime_id', 'tpep_pickup_datetime', 'pick_hour', 'pick_day', 'pick_month', 'pick_year', 'pick_weekday',\n",
    "                             'tpep_dropoff_datetime', 'drop_hour', 'drop_day', 'drop_month', 'drop_year', 'drop_weekday']]"
   ]
  },
  {
   "cell_type": "code",
   "execution_count": null,
   "id": "2cff7d42",
   "metadata": {},
   "outputs": [],
   "source": [
    "# Criando a dim_tipo_taxa\n",
    "\n",
    "tipo_taxa = {\n",
    "    1:\"Standard rate\",\n",
    "    2:\"JFK\",\n",
    "    3:\"Newark\",\n",
    "    4:\"Nassau or Westchester\",\n",
    "    5:\"Negotiated fare\",\n",
    "    6:\"Group ride\"\n",
    "}\n",
    "\n",
    "dim_tipo_taxa = pd.DataFrame(list(tipo_taxa.items()), columns=['RatecodeID', 'rate_description'])"
   ]
  },
  {
   "cell_type": "code",
   "execution_count": null,
   "id": "a021edc0",
   "metadata": {},
   "outputs": [],
   "source": [
    "# Criando a dim_tipo_pagamento\n",
    "\n",
    "tipo_pagamento = {\n",
    "    1:\"Credit card\",\n",
    "    2:\"Cash\",\n",
    "    3:\"No charge\",\n",
    "    4:\"Dispute\",\n",
    "    5:\"Unknown\",\n",
    "    6:\"Voided trip\"\n",
    "}\n",
    "\n",
    "dim_tipo_pagamento = pd.DataFrame(list(tipo_pagamento.items()), columns=['payment_type', 'payment_description'])\n"
   ]
  },
  {
   "cell_type": "code",
   "execution_count": null,
   "id": "7046b97c",
   "metadata": {},
   "outputs": [],
   "source": [
    "# Criando fato_corridas\n",
    "\n",
    "fato_corridas = df.merge(dim_tipo_taxa, on = 'RatecodeID') \\\n",
    "                .merge(dim_tipo_pagamento, on = 'payment_type') \\\n",
    "                .merge(dim_tempo, on = ['tpep_pickup_datetime', 'tpep_dropoff_datetime']) \\\n",
    "                [['VendorID', 'datetime_id', 'RatecodeID', 'payment_type', 'passenger_count', 'trip_distance', 'pickup_longitude', 'pickup_latitude', 'store_and_fwd_flag', 'dropoff_longitude', 'dropoff_latitude', 'fare_amount', 'extra', 'mta_tax', 'tip_amount', 'tolls_amount',\n",
    "               'improvement_surcharge', 'total_amount']]"
   ]
  }
 ],
 "metadata": {
  "kernelspec": {
   "display_name": "Python 3 (ipykernel)",
   "language": "python",
   "name": "python3"
  },
  "language_info": {
   "codemirror_mode": {
    "name": "ipython",
    "version": 3
   },
   "file_extension": ".py",
   "mimetype": "text/x-python",
   "name": "python",
   "nbconvert_exporter": "python",
   "pygments_lexer": "ipython3",
   "version": "3.9.13"
  }
 },
 "nbformat": 4,
 "nbformat_minor": 5
}
